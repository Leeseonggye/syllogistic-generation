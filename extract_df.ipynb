{
 "cells": [
  {
   "cell_type": "code",
   "execution_count": 1,
   "metadata": {},
   "outputs": [],
   "source": [
    "import pandas as pd"
   ]
  },
  {
   "cell_type": "code",
   "execution_count": 10,
   "metadata": {},
   "outputs": [],
   "source": [
    "df = pd.read_html(\"/root/syllogistic/syllogistic-generation/seq2seq/finetune/generation_log/test_10epochs_again_aug_mix_num_augmentation_1_filtered_true/test_10epochs_again_aug_mix_num_augmentation_1_filtered_true.html\")[0]"
   ]
  },
  {
   "cell_type": "code",
   "execution_count": 11,
   "metadata": {},
   "outputs": [
    {
     "data": {
      "text/html": [
       "<div>\n",
       "<style scoped>\n",
       "    .dataframe tbody tr th:only-of-type {\n",
       "        vertical-align: middle;\n",
       "    }\n",
       "\n",
       "    .dataframe tbody tr th {\n",
       "        vertical-align: top;\n",
       "    }\n",
       "\n",
       "    .dataframe thead th {\n",
       "        text-align: right;\n",
       "    }\n",
       "</style>\n",
       "<table border=\"1\" class=\"dataframe\">\n",
       "  <thead>\n",
       "    <tr style=\"text-align: right;\">\n",
       "      <th></th>\n",
       "      <th>input</th>\n",
       "      <th>generation</th>\n",
       "      <th>label</th>\n",
       "    </tr>\n",
       "  </thead>\n",
       "  <tbody>\n",
       "    <tr>\n",
       "      <th>0</th>\n",
       "      <td>Freedom in the World published each year since...</td>\n",
       "      <td>Freedom in the World published each year since...</td>\n",
       "      <td>Freedom in the World published each year since...</td>\n",
       "    </tr>\n",
       "    <tr>\n",
       "      <th>1</th>\n",
       "      <td>Arsenal finished the Premier League season wit...</td>\n",
       "      <td>Arsenal grants a winner with golden trophy ins...</td>\n",
       "      <td>Arsenal were granted with golden trophy instea...</td>\n",
       "    </tr>\n",
       "    <tr>\n",
       "      <th>2</th>\n",
       "      <td>Regenerating stamina requires the cooling of b...</td>\n",
       "      <td>Regenerating stamina is possible by sweating</td>\n",
       "      <td>Regenerating stamina is possible by sweating.</td>\n",
       "    </tr>\n",
       "    <tr>\n",
       "      <th>3</th>\n",
       "      <td>North American toadsâ inherit Glucose based ...</td>\n",
       "      <td>North American toads are resistant to freezing...</td>\n",
       "      <td>North American toads are resistant to freezing...</td>\n",
       "    </tr>\n",
       "    <tr>\n",
       "      <th>4</th>\n",
       "      <td>High inflation may lead to higher borrowing co...</td>\n",
       "      <td>Financial markets may lead to higher borrowing...</td>\n",
       "      <td>Rising prices and increase in the cost of borr...</td>\n",
       "    </tr>\n",
       "    <tr>\n",
       "      <th>...</th>\n",
       "      <td>...</td>\n",
       "      <td>...</td>\n",
       "      <td>...</td>\n",
       "    </tr>\n",
       "    <tr>\n",
       "      <th>625</th>\n",
       "      <td>osteoporosis is more common in females than in...</td>\n",
       "      <td>breval osteoporosis is more common in females ...</td>\n",
       "      <td>becoming weak and brittle in bones is more com...</td>\n",
       "    </tr>\n",
       "    <tr>\n",
       "      <th>626</th>\n",
       "      <td>The fewer friends a person has, the higher lev...</td>\n",
       "      <td>The fewer friends a person has, increases the ...</td>\n",
       "      <td>Having few friends increases the risks of hear...</td>\n",
       "    </tr>\n",
       "    <tr>\n",
       "      <th>627</th>\n",
       "      <td>Interacting with other people is the first ste...</td>\n",
       "      <td>You can make more friends, if you can control ...</td>\n",
       "      <td>You can make more friends through interacting ...</td>\n",
       "    </tr>\n",
       "    <tr>\n",
       "      <th>628</th>\n",
       "      <td>The car slip makes it challenging to come to a...</td>\n",
       "      <td>Road conditions as a result of the rain make i...</td>\n",
       "      <td>Road conditions as a result of the rain can ch...</td>\n",
       "    </tr>\n",
       "    <tr>\n",
       "      <th>629</th>\n",
       "      <td>Since 1990 it had been discovered that Helium ...</td>\n",
       "      <td>Since 1990 it had been discovered that Helium ...</td>\n",
       "      <td>Helium is stable.</td>\n",
       "    </tr>\n",
       "  </tbody>\n",
       "</table>\n",
       "<p>630 rows × 3 columns</p>\n",
       "</div>"
      ],
      "text/plain": [
       "                                                 input  \\\n",
       "0    Freedom in the World published each year since...   \n",
       "1    Arsenal finished the Premier League season wit...   \n",
       "2    Regenerating stamina requires the cooling of b...   \n",
       "3    North American toadsâ inherit Glucose based ...   \n",
       "4    High inflation may lead to higher borrowing co...   \n",
       "..                                                 ...   \n",
       "625  osteoporosis is more common in females than in...   \n",
       "626  The fewer friends a person has, the higher lev...   \n",
       "627  Interacting with other people is the first ste...   \n",
       "628  The car slip makes it challenging to come to a...   \n",
       "629  Since 1990 it had been discovered that Helium ...   \n",
       "\n",
       "                                            generation  \\\n",
       "0    Freedom in the World published each year since...   \n",
       "1    Arsenal grants a winner with golden trophy ins...   \n",
       "2         Regenerating stamina is possible by sweating   \n",
       "3    North American toads are resistant to freezing...   \n",
       "4    Financial markets may lead to higher borrowing...   \n",
       "..                                                 ...   \n",
       "625  breval osteoporosis is more common in females ...   \n",
       "626  The fewer friends a person has, increases the ...   \n",
       "627  You can make more friends, if you can control ...   \n",
       "628  Road conditions as a result of the rain make i...   \n",
       "629  Since 1990 it had been discovered that Helium ...   \n",
       "\n",
       "                                                 label  \n",
       "0    Freedom in the World published each year since...  \n",
       "1    Arsenal were granted with golden trophy instea...  \n",
       "2        Regenerating stamina is possible by sweating.  \n",
       "3    North American toads are resistant to freezing...  \n",
       "4    Rising prices and increase in the cost of borr...  \n",
       "..                                                 ...  \n",
       "625  becoming weak and brittle in bones is more com...  \n",
       "626  Having few friends increases the risks of hear...  \n",
       "627  You can make more friends through interacting ...  \n",
       "628  Road conditions as a result of the rain can ch...  \n",
       "629                                  Helium is stable.  \n",
       "\n",
       "[630 rows x 3 columns]"
      ]
     },
     "execution_count": 11,
     "metadata": {},
     "output_type": "execute_result"
    }
   ],
   "source": [
    "df"
   ]
  },
  {
   "cell_type": "code",
   "execution_count": 2,
   "metadata": {},
   "outputs": [],
   "source": [
    "train = pd.read_csv(\"/root/syllogistic/syllogistic-generation/seq2seq/finetune/datasets/Avicenna_train.csv\", encoding = \"Windows-1252\")\n",
    "test = pd.read_csv(\"/root/syllogistic/syllogistic-generation/seq2seq/finetune/datasets/Avicenna_test.csv\", encoding = \"Windows-1252\")"
   ]
  },
  {
   "cell_type": "code",
   "execution_count": 6,
   "metadata": {},
   "outputs": [],
   "source": [
    "train = train[train['Syllogistic relation'] == 'yes']\n",
    "test = test[test['Syllogistic relation'] == 'yes']"
   ]
  },
  {
   "cell_type": "code",
   "execution_count": 7,
   "metadata": {},
   "outputs": [
    {
     "data": {
      "text/plain": [
       "630"
      ]
     },
     "execution_count": 7,
     "metadata": {},
     "output_type": "execute_result"
    }
   ],
   "source": [
    "len(test)"
   ]
  },
  {
   "cell_type": "code",
   "execution_count": 8,
   "metadata": {},
   "outputs": [
    {
     "data": {
      "text/plain": [
       "2427"
      ]
     },
     "execution_count": 8,
     "metadata": {},
     "output_type": "execute_result"
    }
   ],
   "source": [
    "len(train)"
   ]
  },
  {
   "cell_type": "code",
   "execution_count": 9,
   "metadata": {},
   "outputs": [
    {
     "data": {
      "text/plain": [
       "3057"
      ]
     },
     "execution_count": 9,
     "metadata": {},
     "output_type": "execute_result"
    }
   ],
   "source": [
    "len(train) + len(test)"
   ]
  },
  {
   "cell_type": "code",
   "execution_count": 2,
   "metadata": {},
   "outputs": [],
   "source": [
    "augmented_num2_raw = pd.read_csv(\"/root/syllogistic/syllogistic-generation/seq2seq/finetune/datasets/augmented_num_2_bert_score.csv\")\n",
    "augmented_num3_raw = pd.read_csv(\"/root/syllogistic/syllogistic-generation/seq2seq/finetune/datasets/augmented_num_3_bert_score.csv\")\n",
    "raw = pd.read_csv(\"/root/syllogistic/syllogistic-generation/seq2seq/finetune/datasets/Avicenna_train.csv\", encoding = 'Windows-1252')\n",
    "raw['index'] = raw.index\n",
    "raw = raw[raw['Syllogistic relation'] == 'yes']"
   ]
  },
  {
   "cell_type": "code",
   "execution_count": 3,
   "metadata": {},
   "outputs": [
    {
     "data": {
      "text/plain": [
       "(2427, 2427)"
      ]
     },
     "execution_count": 3,
     "metadata": {},
     "output_type": "execute_result"
    }
   ],
   "source": [
    "len(augmented_num2_raw), len(augmented_num3_raw)"
   ]
  },
  {
   "cell_type": "code",
   "execution_count": 4,
   "metadata": {},
   "outputs": [],
   "source": [
    "augmented_num2_raw = augmented_num2_raw.drop(\"index\", axis=1)\n",
    "augmented_num3_raw = augmented_num3_raw.drop(\"index\", axis=1)"
   ]
  },
  {
   "cell_type": "code",
   "execution_count": null,
   "metadata": {},
   "outputs": [],
   "source": [
    "df = pd.merge(augmented_num2_raw, raw[[\"Conclusion\", \"index\"]], how = 'inner', on = 'Conclusion')\n",
    "df = df.drop_duplicates([\"index\"])"
   ]
  },
  {
   "cell_type": "code",
   "execution_count": 5,
   "metadata": {},
   "outputs": [],
   "source": [
    "def index_arr(aug_df, raw):\n",
    "    df = pd.merge(aug_df, raw[[\"Conclusion\", \"index\"]], how = 'inner', on = 'Conclusion')\n",
    "    df = df.drop_duplicates([\"index\"])\n",
    "    return df"
   ]
  },
  {
   "cell_type": "code",
   "execution_count": 6,
   "metadata": {},
   "outputs": [],
   "source": [
    "augmented_num2_idx_arr = index_arr(augmented_num2_raw, raw)\n",
    "augmented_num3_idx_arr = index_arr(augmented_num3_raw, raw)\n"
   ]
  },
  {
   "cell_type": "code",
   "execution_count": 7,
   "metadata": {},
   "outputs": [
    {
     "data": {
      "text/html": [
       "<div>\n",
       "<style scoped>\n",
       "    .dataframe tbody tr th:only-of-type {\n",
       "        vertical-align: middle;\n",
       "    }\n",
       "\n",
       "    .dataframe tbody tr th {\n",
       "        vertical-align: top;\n",
       "    }\n",
       "\n",
       "    .dataframe thead th {\n",
       "        text-align: right;\n",
       "    }\n",
       "</style>\n",
       "<table border=\"1\" class=\"dataframe\">\n",
       "  <thead>\n",
       "    <tr style=\"text-align: right;\">\n",
       "      <th></th>\n",
       "      <th>Unnamed: 0.1</th>\n",
       "      <th>Unnamed: 0</th>\n",
       "      <th>Premise 1</th>\n",
       "      <th>Premise 2</th>\n",
       "      <th>Conclusion</th>\n",
       "      <th>Premise 1_f1</th>\n",
       "      <th>Premise 2_f1</th>\n",
       "      <th>index</th>\n",
       "    </tr>\n",
       "  </thead>\n",
       "  <tbody>\n",
       "    <tr>\n",
       "      <th>0</th>\n",
       "      <td>0</td>\n",
       "      <td>1457</td>\n",
       "      <td>Trusted Source, like rural South Africans, hea...</td>\n",
       "      <td>In populations that eat a regular high-fiber d...</td>\n",
       "      <td>In populations that eat a regular high-fiber d...</td>\n",
       "      <td>0.932383</td>\n",
       "      <td>0.975437</td>\n",
       "      <td>1</td>\n",
       "    </tr>\n",
       "    <tr>\n",
       "      <th>1</th>\n",
       "      <td>1</td>\n",
       "      <td>1942</td>\n",
       "      <td>A structured learning environment encourages c...</td>\n",
       "      <td>An ideal learning environment encourages activ...</td>\n",
       "      <td>An ideal learning environment encourages child...</td>\n",
       "      <td>0.942185</td>\n",
       "      <td>0.932617</td>\n",
       "      <td>2</td>\n",
       "    </tr>\n",
       "    <tr>\n",
       "      <th>2</th>\n",
       "      <td>2</td>\n",
       "      <td>486</td>\n",
       "      <td>Underrepresented female labor force is not bei...</td>\n",
       "      <td>Job discrimination comes with not being able t...</td>\n",
       "      <td>Job discrimination comes with not being able t...</td>\n",
       "      <td>0.964534</td>\n",
       "      <td>0.913219</td>\n",
       "      <td>3</td>\n",
       "    </tr>\n",
       "    <tr>\n",
       "      <th>3</th>\n",
       "      <td>3</td>\n",
       "      <td>1458</td>\n",
       "      <td>Negative attitude brings brings serious health...</td>\n",
       "      <td>Aggression brings about negative thinking.</td>\n",
       "      <td>Aggression brings brings serious health proble...</td>\n",
       "      <td>0.942149</td>\n",
       "      <td>0.939154</td>\n",
       "      <td>4</td>\n",
       "    </tr>\n",
       "    <tr>\n",
       "      <th>4</th>\n",
       "      <td>4</td>\n",
       "      <td>1943</td>\n",
       "      <td>Batman used an electronic disruptor.</td>\n",
       "      <td>The activation of the motion detectors opened ...</td>\n",
       "      <td>Batman opened an access for police forces to r...</td>\n",
       "      <td>0.937415</td>\n",
       "      <td>0.976193</td>\n",
       "      <td>7</td>\n",
       "    </tr>\n",
       "    <tr>\n",
       "      <th>...</th>\n",
       "      <td>...</td>\n",
       "      <td>...</td>\n",
       "      <td>...</td>\n",
       "      <td>...</td>\n",
       "      <td>...</td>\n",
       "      <td>...</td>\n",
       "      <td>...</td>\n",
       "      <td>...</td>\n",
       "    </tr>\n",
       "    <tr>\n",
       "      <th>2442</th>\n",
       "      <td>2422</td>\n",
       "      <td>970</td>\n",
       "      <td>Many online sites offer discount coupons.</td>\n",
       "      <td>Buying rebate tickets can help people to save ...</td>\n",
       "      <td>Many online sites can help people to save money</td>\n",
       "      <td>0.977255</td>\n",
       "      <td>0.928349</td>\n",
       "      <td>4790</td>\n",
       "    </tr>\n",
       "    <tr>\n",
       "      <th>2443</th>\n",
       "      <td>2423</td>\n",
       "      <td>1941</td>\n",
       "      <td>Unapproved spaces will function as private den...</td>\n",
       "      <td>Many facilities built for the Olympics are not...</td>\n",
       "      <td>Many facilities built for the Olympics will fu...</td>\n",
       "      <td>0.979878</td>\n",
       "      <td>0.965854</td>\n",
       "      <td>4791</td>\n",
       "    </tr>\n",
       "    <tr>\n",
       "      <th>2444</th>\n",
       "      <td>2424</td>\n",
       "      <td>1456</td>\n",
       "      <td>Direwolves had bigger preys.</td>\n",
       "      <td>Hunting big-sized animals reduced population o...</td>\n",
       "      <td>Direwolves reduced population of herbivores.</td>\n",
       "      <td>0.923978</td>\n",
       "      <td>0.954270</td>\n",
       "      <td>4794</td>\n",
       "    </tr>\n",
       "    <tr>\n",
       "      <th>2445</th>\n",
       "      <td>2425</td>\n",
       "      <td>485</td>\n",
       "      <td>People tend to follow trustworthy leaders</td>\n",
       "      <td>Honest leaders tend to follow trustworthy leaders</td>\n",
       "      <td>People tend to follow honest leaders</td>\n",
       "      <td>0.944983</td>\n",
       "      <td>0.927898</td>\n",
       "      <td>4796</td>\n",
       "    </tr>\n",
       "    <tr>\n",
       "      <th>2446</th>\n",
       "      <td>2426</td>\n",
       "      <td>971</td>\n",
       "      <td>Social media can lead to mental disorders like...</td>\n",
       "      <td>Spending too long on social networking sites c...</td>\n",
       "      <td>Spending too long on social networking sites c...</td>\n",
       "      <td>0.923846</td>\n",
       "      <td>0.985895</td>\n",
       "      <td>4798</td>\n",
       "    </tr>\n",
       "  </tbody>\n",
       "</table>\n",
       "<p>2427 rows × 8 columns</p>\n",
       "</div>"
      ],
      "text/plain": [
       "      Unnamed: 0.1  Unnamed: 0  \\\n",
       "0                0        1457   \n",
       "1                1        1942   \n",
       "2                2         486   \n",
       "3                3        1458   \n",
       "4                4        1943   \n",
       "...            ...         ...   \n",
       "2442          2422         970   \n",
       "2443          2423        1941   \n",
       "2444          2424        1456   \n",
       "2445          2425         485   \n",
       "2446          2426         971   \n",
       "\n",
       "                                              Premise 1  \\\n",
       "0     Trusted Source, like rural South Africans, hea...   \n",
       "1     A structured learning environment encourages c...   \n",
       "2     Underrepresented female labor force is not bei...   \n",
       "3     Negative attitude brings brings serious health...   \n",
       "4                  Batman used an electronic disruptor.   \n",
       "...                                                 ...   \n",
       "2442          Many online sites offer discount coupons.   \n",
       "2443  Unapproved spaces will function as private den...   \n",
       "2444                       Direwolves had bigger preys.   \n",
       "2445          People tend to follow trustworthy leaders   \n",
       "2446  Social media can lead to mental disorders like...   \n",
       "\n",
       "                                              Premise 2  \\\n",
       "0     In populations that eat a regular high-fiber d...   \n",
       "1     An ideal learning environment encourages activ...   \n",
       "2     Job discrimination comes with not being able t...   \n",
       "3            Aggression brings about negative thinking.   \n",
       "4     The activation of the motion detectors opened ...   \n",
       "...                                                 ...   \n",
       "2442  Buying rebate tickets can help people to save ...   \n",
       "2443  Many facilities built for the Olympics are not...   \n",
       "2444  Hunting big-sized animals reduced population o...   \n",
       "2445  Honest leaders tend to follow trustworthy leaders   \n",
       "2446  Spending too long on social networking sites c...   \n",
       "\n",
       "                                             Conclusion  Premise 1_f1  \\\n",
       "0     In populations that eat a regular high-fiber d...      0.932383   \n",
       "1     An ideal learning environment encourages child...      0.942185   \n",
       "2     Job discrimination comes with not being able t...      0.964534   \n",
       "3     Aggression brings brings serious health proble...      0.942149   \n",
       "4     Batman opened an access for police forces to r...      0.937415   \n",
       "...                                                 ...           ...   \n",
       "2442    Many online sites can help people to save money      0.977255   \n",
       "2443  Many facilities built for the Olympics will fu...      0.979878   \n",
       "2444       Direwolves reduced population of herbivores.      0.923978   \n",
       "2445               People tend to follow honest leaders      0.944983   \n",
       "2446  Spending too long on social networking sites c...      0.923846   \n",
       "\n",
       "      Premise 2_f1  index  \n",
       "0         0.975437      1  \n",
       "1         0.932617      2  \n",
       "2         0.913219      3  \n",
       "3         0.939154      4  \n",
       "4         0.976193      7  \n",
       "...            ...    ...  \n",
       "2442      0.928349   4790  \n",
       "2443      0.965854   4791  \n",
       "2444      0.954270   4794  \n",
       "2445      0.927898   4796  \n",
       "2446      0.985895   4798  \n",
       "\n",
       "[2427 rows x 8 columns]"
      ]
     },
     "execution_count": 7,
     "metadata": {},
     "output_type": "execute_result"
    }
   ],
   "source": [
    "augmented_num2_idx_arr"
   ]
  },
  {
   "cell_type": "code",
   "execution_count": 8,
   "metadata": {},
   "outputs": [
    {
     "data": {
      "text/plain": [
       "True"
      ]
     },
     "execution_count": 8,
     "metadata": {},
     "output_type": "execute_result"
    }
   ],
   "source": [
    "augmented_num2_idx_arr['index'].is_unique"
   ]
  },
  {
   "cell_type": "code",
   "execution_count": 9,
   "metadata": {},
   "outputs": [
    {
     "data": {
      "text/plain": [
       "True"
      ]
     },
     "execution_count": 9,
     "metadata": {},
     "output_type": "execute_result"
    }
   ],
   "source": [
    "augmented_num3_idx_arr['index'].is_unique"
   ]
  },
  {
   "cell_type": "code",
   "execution_count": 10,
   "metadata": {},
   "outputs": [],
   "source": [
    "augmented_num2_idx_arr.to_csv(\"/root/syllogistic/syllogistic-generation/seq2seq/finetune/datasets/augmented_num_2_bert_score.csv\")\n",
    "augmented_num3_idx_arr.to_csv(\"/root/syllogistic/syllogistic-generation/seq2seq/finetune/datasets/augmented_num_3_bert_score.csv\")"
   ]
  },
  {
   "cell_type": "code",
   "execution_count": 14,
   "metadata": {},
   "outputs": [],
   "source": [
    "df = pd.read_csv(\"/root/syllogistic/syllogistic-generation/seq2seq/finetune/datasets/augmented_num_3_bert_score.csv\")"
   ]
  },
  {
   "cell_type": "code",
   "execution_count": 15,
   "metadata": {},
   "outputs": [
    {
     "data": {
      "text/plain": [
       "True"
      ]
     },
     "execution_count": 15,
     "metadata": {},
     "output_type": "execute_result"
    }
   ],
   "source": [
    "df['index'].is_unique"
   ]
  },
  {
   "cell_type": "code",
   "execution_count": 16,
   "metadata": {},
   "outputs": [
    {
     "data": {
      "text/html": [
       "<div>\n",
       "<style scoped>\n",
       "    .dataframe tbody tr th:only-of-type {\n",
       "        vertical-align: middle;\n",
       "    }\n",
       "\n",
       "    .dataframe tbody tr th {\n",
       "        vertical-align: top;\n",
       "    }\n",
       "\n",
       "    .dataframe thead th {\n",
       "        text-align: right;\n",
       "    }\n",
       "</style>\n",
       "<table border=\"1\" class=\"dataframe\">\n",
       "  <thead>\n",
       "    <tr style=\"text-align: right;\">\n",
       "      <th></th>\n",
       "      <th>Unnamed: 0.2</th>\n",
       "      <th>Unnamed: 0.1</th>\n",
       "      <th>Unnamed: 0</th>\n",
       "      <th>Premise 1</th>\n",
       "      <th>Premise 2</th>\n",
       "      <th>Conclusion</th>\n",
       "      <th>Premise 1_f1</th>\n",
       "      <th>Premise 2_f1</th>\n",
       "      <th>index</th>\n",
       "    </tr>\n",
       "  </thead>\n",
       "  <tbody>\n",
       "    <tr>\n",
       "      <th>0</th>\n",
       "      <td>0</td>\n",
       "      <td>0</td>\n",
       "      <td>1457</td>\n",
       "      <td>In populations that have high levels of fiber,...</td>\n",
       "      <td>In populations that eat a regular high-fiber d...</td>\n",
       "      <td>In populations that eat a regular high-fiber d...</td>\n",
       "      <td>0.900492</td>\n",
       "      <td>0.942063</td>\n",
       "      <td>1</td>\n",
       "    </tr>\n",
       "    <tr>\n",
       "      <th>1</th>\n",
       "      <td>1</td>\n",
       "      <td>1</td>\n",
       "      <td>1942</td>\n",
       "      <td>Children to enjoy learning tend to stay active</td>\n",
       "      <td>An ideal learning environment encourages child...</td>\n",
       "      <td>An ideal learning environment encourages child...</td>\n",
       "      <td>0.895980</td>\n",
       "      <td>0.913974</td>\n",
       "      <td>2</td>\n",
       "    </tr>\n",
       "    <tr>\n",
       "      <th>2</th>\n",
       "      <td>2</td>\n",
       "      <td>2</td>\n",
       "      <td>486</td>\n",
       "      <td>Women are not able to demand rights of closing...</td>\n",
       "      <td>Job discrimination comes with low wages.</td>\n",
       "      <td>Job discrimination comes with not being able t...</td>\n",
       "      <td>0.941804</td>\n",
       "      <td>0.927308</td>\n",
       "      <td>3</td>\n",
       "    </tr>\n",
       "    <tr>\n",
       "      <th>3</th>\n",
       "      <td>3</td>\n",
       "      <td>3</td>\n",
       "      <td>1458</td>\n",
       "      <td>stomach reflexes can lead to stomach irritation.</td>\n",
       "      <td>Aggression brings about aggressive behavior.</td>\n",
       "      <td>Aggression brings brings serious health proble...</td>\n",
       "      <td>0.901396</td>\n",
       "      <td>0.934489</td>\n",
       "      <td>4</td>\n",
       "    </tr>\n",
       "    <tr>\n",
       "      <th>4</th>\n",
       "      <td>4</td>\n",
       "      <td>4</td>\n",
       "      <td>1943</td>\n",
       "      <td>Batman activated the motion detectors.</td>\n",
       "      <td>The use of an electronic disruptor opened an a...</td>\n",
       "      <td>Batman opened an access for police forces to r...</td>\n",
       "      <td>0.925566</td>\n",
       "      <td>0.961404</td>\n",
       "      <td>7</td>\n",
       "    </tr>\n",
       "    <tr>\n",
       "      <th>...</th>\n",
       "      <td>...</td>\n",
       "      <td>...</td>\n",
       "      <td>...</td>\n",
       "      <td>...</td>\n",
       "      <td>...</td>\n",
       "      <td>...</td>\n",
       "      <td>...</td>\n",
       "      <td>...</td>\n",
       "      <td>...</td>\n",
       "    </tr>\n",
       "    <tr>\n",
       "      <th>2422</th>\n",
       "      <td>2442</td>\n",
       "      <td>2422</td>\n",
       "      <td>970</td>\n",
       "      <td>Many online sites allow you to purchase rebate...</td>\n",
       "      <td>Discounting money can help people to save money</td>\n",
       "      <td>Many online sites can help people to save money</td>\n",
       "      <td>0.922325</td>\n",
       "      <td>0.903811</td>\n",
       "      <td>4790</td>\n",
       "    </tr>\n",
       "    <tr>\n",
       "      <th>2423</th>\n",
       "      <td>2443</td>\n",
       "      <td>2423</td>\n",
       "      <td>1941</td>\n",
       "      <td>Public spaces will function as private dens fo...</td>\n",
       "      <td>Many facilities built for the Olympics will ha...</td>\n",
       "      <td>Many facilities built for the Olympics will fu...</td>\n",
       "      <td>0.971194</td>\n",
       "      <td>0.931093</td>\n",
       "      <td>4791</td>\n",
       "    </tr>\n",
       "    <tr>\n",
       "      <th>2424</th>\n",
       "      <td>2444</td>\n",
       "      <td>2424</td>\n",
       "      <td>1456</td>\n",
       "      <td>Direwolves are vicious animals.</td>\n",
       "      <td>Increased population of herbivores reduced pop...</td>\n",
       "      <td>Direwolves reduced population of herbivores.</td>\n",
       "      <td>0.897030</td>\n",
       "      <td>0.926229</td>\n",
       "      <td>4794</td>\n",
       "    </tr>\n",
       "    <tr>\n",
       "      <th>2425</th>\n",
       "      <td>2445</td>\n",
       "      <td>2425</td>\n",
       "      <td>485</td>\n",
       "      <td>People who are trustworthy tend to become more...</td>\n",
       "      <td>Honest leaders tend to follow honest leaders</td>\n",
       "      <td>People tend to follow honest leaders</td>\n",
       "      <td>0.892488</td>\n",
       "      <td>0.914391</td>\n",
       "      <td>4796</td>\n",
       "    </tr>\n",
       "    <tr>\n",
       "      <th>2426</th>\n",
       "      <td>2446</td>\n",
       "      <td>2426</td>\n",
       "      <td>971</td>\n",
       "      <td>Depression and anxiety can lead to mental diso...</td>\n",
       "      <td>Spending too long on social networking sites c...</td>\n",
       "      <td>Spending too long on social networking sites c...</td>\n",
       "      <td>0.918608</td>\n",
       "      <td>0.980914</td>\n",
       "      <td>4798</td>\n",
       "    </tr>\n",
       "  </tbody>\n",
       "</table>\n",
       "<p>2427 rows × 9 columns</p>\n",
       "</div>"
      ],
      "text/plain": [
       "      Unnamed: 0.2  Unnamed: 0.1  Unnamed: 0  \\\n",
       "0                0             0        1457   \n",
       "1                1             1        1942   \n",
       "2                2             2         486   \n",
       "3                3             3        1458   \n",
       "4                4             4        1943   \n",
       "...            ...           ...         ...   \n",
       "2422          2442          2422         970   \n",
       "2423          2443          2423        1941   \n",
       "2424          2444          2424        1456   \n",
       "2425          2445          2425         485   \n",
       "2426          2446          2426         971   \n",
       "\n",
       "                                              Premise 1  \\\n",
       "0     In populations that have high levels of fiber,...   \n",
       "1        Children to enjoy learning tend to stay active   \n",
       "2     Women are not able to demand rights of closing...   \n",
       "3      stomach reflexes can lead to stomach irritation.   \n",
       "4                Batman activated the motion detectors.   \n",
       "...                                                 ...   \n",
       "2422  Many online sites allow you to purchase rebate...   \n",
       "2423  Public spaces will function as private dens fo...   \n",
       "2424                    Direwolves are vicious animals.   \n",
       "2425  People who are trustworthy tend to become more...   \n",
       "2426  Depression and anxiety can lead to mental diso...   \n",
       "\n",
       "                                              Premise 2  \\\n",
       "0     In populations that eat a regular high-fiber d...   \n",
       "1     An ideal learning environment encourages child...   \n",
       "2              Job discrimination comes with low wages.   \n",
       "3          Aggression brings about aggressive behavior.   \n",
       "4     The use of an electronic disruptor opened an a...   \n",
       "...                                                 ...   \n",
       "2422    Discounting money can help people to save money   \n",
       "2423  Many facilities built for the Olympics will ha...   \n",
       "2424  Increased population of herbivores reduced pop...   \n",
       "2425       Honest leaders tend to follow honest leaders   \n",
       "2426  Spending too long on social networking sites c...   \n",
       "\n",
       "                                             Conclusion  Premise 1_f1  \\\n",
       "0     In populations that eat a regular high-fiber d...      0.900492   \n",
       "1     An ideal learning environment encourages child...      0.895980   \n",
       "2     Job discrimination comes with not being able t...      0.941804   \n",
       "3     Aggression brings brings serious health proble...      0.901396   \n",
       "4     Batman opened an access for police forces to r...      0.925566   \n",
       "...                                                 ...           ...   \n",
       "2422    Many online sites can help people to save money      0.922325   \n",
       "2423  Many facilities built for the Olympics will fu...      0.971194   \n",
       "2424       Direwolves reduced population of herbivores.      0.897030   \n",
       "2425               People tend to follow honest leaders      0.892488   \n",
       "2426  Spending too long on social networking sites c...      0.918608   \n",
       "\n",
       "      Premise 2_f1  index  \n",
       "0         0.942063      1  \n",
       "1         0.913974      2  \n",
       "2         0.927308      3  \n",
       "3         0.934489      4  \n",
       "4         0.961404      7  \n",
       "...            ...    ...  \n",
       "2422      0.903811   4790  \n",
       "2423      0.931093   4791  \n",
       "2424      0.926229   4794  \n",
       "2425      0.914391   4796  \n",
       "2426      0.980914   4798  \n",
       "\n",
       "[2427 rows x 9 columns]"
      ]
     },
     "execution_count": 16,
     "metadata": {},
     "output_type": "execute_result"
    }
   ],
   "source": [
    "df"
   ]
  },
  {
   "cell_type": "code",
   "execution_count": 1,
   "metadata": {},
   "outputs": [],
   "source": [
    "import pandas as pd"
   ]
  },
  {
   "cell_type": "code",
   "execution_count": 2,
   "metadata": {},
   "outputs": [],
   "source": [
    "data = pd.read_html(\"/root/syllogistic/syllogistic-generation/seq2seq/finetune/generation_log/docker_test_train_aug_mix_num_augmentation_1-finetune/docker_test_train_aug_mix_num_augmentation_1-finetune.html\")[0]"
   ]
  },
  {
   "cell_type": "code",
   "execution_count": 3,
   "metadata": {},
   "outputs": [
    {
     "data": {
      "text/html": [
       "<div>\n",
       "<style scoped>\n",
       "    .dataframe tbody tr th:only-of-type {\n",
       "        vertical-align: middle;\n",
       "    }\n",
       "\n",
       "    .dataframe tbody tr th {\n",
       "        vertical-align: top;\n",
       "    }\n",
       "\n",
       "    .dataframe thead th {\n",
       "        text-align: right;\n",
       "    }\n",
       "</style>\n",
       "<table border=\"1\" class=\"dataframe\">\n",
       "  <thead>\n",
       "    <tr style=\"text-align: right;\">\n",
       "      <th></th>\n",
       "      <th>input</th>\n",
       "      <th>generation</th>\n",
       "      <th>label</th>\n",
       "    </tr>\n",
       "  </thead>\n",
       "  <tbody>\n",
       "    <tr>\n",
       "      <th>0</th>\n",
       "      <td>Freedom in the World published each year since...</td>\n",
       "      <td>Freedom in the World published each year since...</td>\n",
       "      <td>Freedom in the World published each year since...</td>\n",
       "    </tr>\n",
       "    <tr>\n",
       "      <th>1</th>\n",
       "      <td>Arsenal finished the Premier League season wit...</td>\n",
       "      <td>Arsenal grants them golden trophy instead of s...</td>\n",
       "      <td>Arsenal were granted with golden trophy instea...</td>\n",
       "    </tr>\n",
       "    <tr>\n",
       "      <th>2</th>\n",
       "      <td>Regenerating stamina requires the cooling of b...</td>\n",
       "      <td>Regenerating stamina requires sweating.</td>\n",
       "      <td>Regenerating stamina is possible by sweating.</td>\n",
       "    </tr>\n",
       "    <tr>\n",
       "      <th>3</th>\n",
       "      <td>North American toadsâ inherit Glucose based ...</td>\n",
       "      <td>North American toads are resistant to freezing...</td>\n",
       "      <td>North American toads are resistant to freezing...</td>\n",
       "    </tr>\n",
       "    <tr>\n",
       "      <th>4</th>\n",
       "      <td>High inflation may lead to higher borrowing co...</td>\n",
       "      <td>Financial markets may lead to higher borrowing...</td>\n",
       "      <td>Rising prices and increase in the cost of borr...</td>\n",
       "    </tr>\n",
       "    <tr>\n",
       "      <th>...</th>\n",
       "      <td>...</td>\n",
       "      <td>...</td>\n",
       "      <td>...</td>\n",
       "    </tr>\n",
       "    <tr>\n",
       "      <th>625</th>\n",
       "      <td>osteoporosis is more common in females than in...</td>\n",
       "      <td>males are more common in females than in males.</td>\n",
       "      <td>becoming weak and brittle in bones is more com...</td>\n",
       "    </tr>\n",
       "    <tr>\n",
       "      <th>626</th>\n",
       "      <td>The fewer friends a person has, the higher lev...</td>\n",
       "      <td>The fewer friends a person has, the higher ris...</td>\n",
       "      <td>Having few friends increases the risks of hear...</td>\n",
       "    </tr>\n",
       "    <tr>\n",
       "      <th>627</th>\n",
       "      <td>Interacting with other people is the first ste...</td>\n",
       "      <td>You can make more friends if you can control y...</td>\n",
       "      <td>You can make more friends through interacting ...</td>\n",
       "    </tr>\n",
       "    <tr>\n",
       "      <th>628</th>\n",
       "      <td>The car slip makes it challenging to come to a...</td>\n",
       "      <td>Road conditions as a result of the rain make i...</td>\n",
       "      <td>Road conditions as a result of the rain can ch...</td>\n",
       "    </tr>\n",
       "    <tr>\n",
       "      <th>629</th>\n",
       "      <td>Since 1990 it had been discovered that Helium ...</td>\n",
       "      <td>Since 1990 it had been discovered that Helium ...</td>\n",
       "      <td>Helium is stable.</td>\n",
       "    </tr>\n",
       "  </tbody>\n",
       "</table>\n",
       "<p>630 rows × 3 columns</p>\n",
       "</div>"
      ],
      "text/plain": [
       "                                                 input  \\\n",
       "0    Freedom in the World published each year since...   \n",
       "1    Arsenal finished the Premier League season wit...   \n",
       "2    Regenerating stamina requires the cooling of b...   \n",
       "3    North American toadsâ inherit Glucose based ...   \n",
       "4    High inflation may lead to higher borrowing co...   \n",
       "..                                                 ...   \n",
       "625  osteoporosis is more common in females than in...   \n",
       "626  The fewer friends a person has, the higher lev...   \n",
       "627  Interacting with other people is the first ste...   \n",
       "628  The car slip makes it challenging to come to a...   \n",
       "629  Since 1990 it had been discovered that Helium ...   \n",
       "\n",
       "                                            generation  \\\n",
       "0    Freedom in the World published each year since...   \n",
       "1    Arsenal grants them golden trophy instead of s...   \n",
       "2              Regenerating stamina requires sweating.   \n",
       "3    North American toads are resistant to freezing...   \n",
       "4    Financial markets may lead to higher borrowing...   \n",
       "..                                                 ...   \n",
       "625    males are more common in females than in males.   \n",
       "626  The fewer friends a person has, the higher ris...   \n",
       "627  You can make more friends if you can control y...   \n",
       "628  Road conditions as a result of the rain make i...   \n",
       "629  Since 1990 it had been discovered that Helium ...   \n",
       "\n",
       "                                                 label  \n",
       "0    Freedom in the World published each year since...  \n",
       "1    Arsenal were granted with golden trophy instea...  \n",
       "2        Regenerating stamina is possible by sweating.  \n",
       "3    North American toads are resistant to freezing...  \n",
       "4    Rising prices and increase in the cost of borr...  \n",
       "..                                                 ...  \n",
       "625  becoming weak and brittle in bones is more com...  \n",
       "626  Having few friends increases the risks of hear...  \n",
       "627  You can make more friends through interacting ...  \n",
       "628  Road conditions as a result of the rain can ch...  \n",
       "629                                  Helium is stable.  \n",
       "\n",
       "[630 rows x 3 columns]"
      ]
     },
     "execution_count": 3,
     "metadata": {},
     "output_type": "execute_result"
    }
   ],
   "source": [
    "data"
   ]
  },
  {
   "cell_type": "code",
   "execution_count": 4,
   "metadata": {},
   "outputs": [],
   "source": [
    "data = pd.read_html(\"/root/syllogistic/syllogistic-generation/seq2seq/finetune/generation_log/docker_test_train_aug_mix_num_augmentation_1-finetune/docker_test_train_aug_mix_num_augmentation_1-finetune.html\")"
   ]
  },
  {
   "cell_type": "code",
   "execution_count": 5,
   "metadata": {},
   "outputs": [
    {
     "data": {
      "text/plain": [
       "[                                                 input  \\\n",
       " 0    Freedom in the World published each year since...   \n",
       " 1    Arsenal finished the Premier League season wit...   \n",
       " 2    Regenerating stamina requires the cooling of b...   \n",
       " 3    North American toadsâ inherit Glucose based ...   \n",
       " 4    High inflation may lead to higher borrowing co...   \n",
       " ..                                                 ...   \n",
       " 625  osteoporosis is more common in females than in...   \n",
       " 626  The fewer friends a person has, the higher lev...   \n",
       " 627  Interacting with other people is the first ste...   \n",
       " 628  The car slip makes it challenging to come to a...   \n",
       " 629  Since 1990 it had been discovered that Helium ...   \n",
       " \n",
       "                                             generation  \\\n",
       " 0    Freedom in the World published each year since...   \n",
       " 1    Arsenal grants them golden trophy instead of s...   \n",
       " 2              Regenerating stamina requires sweating.   \n",
       " 3    North American toads are resistant to freezing...   \n",
       " 4    Financial markets may lead to higher borrowing...   \n",
       " ..                                                 ...   \n",
       " 625    males are more common in females than in males.   \n",
       " 626  The fewer friends a person has, the higher ris...   \n",
       " 627  You can make more friends if you can control y...   \n",
       " 628  Road conditions as a result of the rain make i...   \n",
       " 629  Since 1990 it had been discovered that Helium ...   \n",
       " \n",
       "                                                  label  \n",
       " 0    Freedom in the World published each year since...  \n",
       " 1    Arsenal were granted with golden trophy instea...  \n",
       " 2        Regenerating stamina is possible by sweating.  \n",
       " 3    North American toads are resistant to freezing...  \n",
       " 4    Rising prices and increase in the cost of borr...  \n",
       " ..                                                 ...  \n",
       " 625  becoming weak and brittle in bones is more com...  \n",
       " 626  Having few friends increases the risks of hear...  \n",
       " 627  You can make more friends through interacting ...  \n",
       " 628  Road conditions as a result of the rain can ch...  \n",
       " 629                                  Helium is stable.  \n",
       " \n",
       " [630 rows x 3 columns]]"
      ]
     },
     "execution_count": 5,
     "metadata": {},
     "output_type": "execute_result"
    }
   ],
   "source": [
    "data"
   ]
  },
  {
   "cell_type": "code",
   "execution_count": 6,
   "metadata": {},
   "outputs": [],
   "source": [
    "test = pd.read_csv(\"/root/syllogistic/syllogistic-generation/seq2seq/finetune/datasets/Avicenna_test.csv\", encoding = \"Windows-1252\")"
   ]
  },
  {
   "cell_type": "code",
   "execution_count": 7,
   "metadata": {},
   "outputs": [],
   "source": [
    "test = test[test[\"Syllogistic relation\"] == \"yes\"]"
   ]
  },
  {
   "cell_type": "code",
   "execution_count": 8,
   "metadata": {},
   "outputs": [
    {
     "data": {
      "text/plain": [
       "630"
      ]
     },
     "execution_count": 8,
     "metadata": {},
     "output_type": "execute_result"
    }
   ],
   "source": [
    "len(test)"
   ]
  },
  {
   "cell_type": "code",
   "execution_count": null,
   "metadata": {},
   "outputs": [],
   "source": []
  }
 ],
 "metadata": {
  "kernelspec": {
   "display_name": "Python 3.8.10 64-bit",
   "language": "python",
   "name": "python3"
  },
  "language_info": {
   "codemirror_mode": {
    "name": "ipython",
    "version": 3
   },
   "file_extension": ".py",
   "mimetype": "text/x-python",
   "name": "python",
   "nbconvert_exporter": "python",
   "pygments_lexer": "ipython3",
   "version": "3.8.10"
  },
  "orig_nbformat": 4,
  "vscode": {
   "interpreter": {
    "hash": "916dbcbb3f70747c44a77c7bcd40155683ae19c65e1c03b4aa3499c5328201f1"
   }
  }
 },
 "nbformat": 4,
 "nbformat_minor": 2
}
